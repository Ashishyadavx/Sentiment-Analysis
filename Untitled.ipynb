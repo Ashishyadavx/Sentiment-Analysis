{
 "cells": [
  {
   "cell_type": "code",
   "execution_count": 47,
   "id": "fb45a153",
   "metadata": {},
   "outputs": [],
   "source": [
    "import numpy as np\n",
    "import pandas as pd\n",
    "import matplotlib.pyplot as plt\n",
    "import seaborn as sns"
   ]
  },
  {
   "cell_type": "code",
   "execution_count": 50,
   "id": "881983a3",
   "metadata": {},
   "outputs": [
    {
     "data": {
      "text/html": [
       "<div>\n",
       "<style scoped>\n",
       "    .dataframe tbody tr th:only-of-type {\n",
       "        vertical-align: middle;\n",
       "    }\n",
       "\n",
       "    .dataframe tbody tr th {\n",
       "        vertical-align: top;\n",
       "    }\n",
       "\n",
       "    .dataframe thead th {\n",
       "        text-align: right;\n",
       "    }\n",
       "</style>\n",
       "<table border=\"1\" class=\"dataframe\">\n",
       "  <thead>\n",
       "    <tr style=\"text-align: right;\">\n",
       "      <th></th>\n",
       "      <th>v1</th>\n",
       "      <th>v2</th>\n",
       "      <th>Unnamed: 2</th>\n",
       "      <th>Unnamed: 3</th>\n",
       "      <th>Unnamed: 4</th>\n",
       "    </tr>\n",
       "  </thead>\n",
       "  <tbody>\n",
       "    <tr>\n",
       "      <th>0</th>\n",
       "      <td>ham</td>\n",
       "      <td>Go until jurong point, crazy.. Available only ...</td>\n",
       "      <td>NaN</td>\n",
       "      <td>NaN</td>\n",
       "      <td>NaN</td>\n",
       "    </tr>\n",
       "    <tr>\n",
       "      <th>1</th>\n",
       "      <td>ham</td>\n",
       "      <td>Ok lar... Joking wif u oni...</td>\n",
       "      <td>NaN</td>\n",
       "      <td>NaN</td>\n",
       "      <td>NaN</td>\n",
       "    </tr>\n",
       "    <tr>\n",
       "      <th>2</th>\n",
       "      <td>spam</td>\n",
       "      <td>Free entry in 2 a wkly comp to win FA Cup fina...</td>\n",
       "      <td>NaN</td>\n",
       "      <td>NaN</td>\n",
       "      <td>NaN</td>\n",
       "    </tr>\n",
       "    <tr>\n",
       "      <th>3</th>\n",
       "      <td>ham</td>\n",
       "      <td>U dun say so early hor... U c already then say...</td>\n",
       "      <td>NaN</td>\n",
       "      <td>NaN</td>\n",
       "      <td>NaN</td>\n",
       "    </tr>\n",
       "    <tr>\n",
       "      <th>4</th>\n",
       "      <td>ham</td>\n",
       "      <td>Nah I don't think he goes to usf, he lives aro...</td>\n",
       "      <td>NaN</td>\n",
       "      <td>NaN</td>\n",
       "      <td>NaN</td>\n",
       "    </tr>\n",
       "  </tbody>\n",
       "</table>\n",
       "</div>"
      ],
      "text/plain": [
       "     v1                                                 v2 Unnamed: 2  \\\n",
       "0   ham  Go until jurong point, crazy.. Available only ...        NaN   \n",
       "1   ham                      Ok lar... Joking wif u oni...        NaN   \n",
       "2  spam  Free entry in 2 a wkly comp to win FA Cup fina...        NaN   \n",
       "3   ham  U dun say so early hor... U c already then say...        NaN   \n",
       "4   ham  Nah I don't think he goes to usf, he lives aro...        NaN   \n",
       "\n",
       "  Unnamed: 3 Unnamed: 4  \n",
       "0        NaN        NaN  \n",
       "1        NaN        NaN  \n",
       "2        NaN        NaN  \n",
       "3        NaN        NaN  \n",
       "4        NaN        NaN  "
      ]
     },
     "execution_count": 50,
     "metadata": {},
     "output_type": "execute_result"
    }
   ],
   "source": [
    "df=pd.read_csv('spam.csv',encoding='iso-8859-1')\n",
    "df.head()"
   ]
  },
  {
   "cell_type": "code",
   "execution_count": 53,
   "id": "7bf03ebb",
   "metadata": {},
   "outputs": [
    {
     "name": "stdout",
     "output_type": "stream",
     "text": [
      "                                                     v2  Polarity\n",
      "0     Go until jurong point, crazy.. Available only ...  0.150000\n",
      "1                         Ok lar... Joking wif u oni...  0.500000\n",
      "2     Free entry in 2 a wkly comp to win FA Cup fina...  0.300000\n",
      "3     U dun say so early hor... U c already then say...  0.100000\n",
      "4     Nah I don't think he goes to usf, he lives aro...  0.000000\n",
      "...                                                 ...       ...\n",
      "5567  This is the 2nd time we have tried 2 contact u...  0.180556\n",
      "5568              Will Ì_ b going to esplanade fr home?  0.000000\n",
      "5569  Pity, * was in mood for that. So...any other s... -0.112500\n",
      "5570  The guy did some bitching but I acted like i'd...  0.216667\n",
      "5571                         Rofl. Its true to its name  0.575000\n",
      "\n",
      "[5572 rows x 2 columns]\n"
     ]
    }
   ],
   "source": [
    "from textblob import TextBlob\n",
    "# Function to calculate polarity using TextBlob\n",
    "def calculate_polarity(text):\n",
    "    blob = TextBlob(text)\n",
    "    polarity = blob.sentiment.polarity\n",
    "    return polarity\n",
    "\n",
    "# Apply the function to the 'v2' column\n",
    "df['Polarity'] = df['v2'].apply(calculate_polarity)\n",
    "\n",
    "# Display the DataFrame with polarity\n",
    "print(df[['v2', 'Polarity']])\n"
   ]
  },
  {
   "cell_type": "code",
   "execution_count": 54,
   "id": "5c0c767d",
   "metadata": {},
   "outputs": [
    {
     "name": "stdout",
     "output_type": "stream",
     "text": [
      "                                                     v2 Sentiment\n",
      "0     Go until jurong point, crazy.. Available only ...  positive\n",
      "1                         Ok lar... Joking wif u oni...  positive\n",
      "2     Free entry in 2 a wkly comp to win FA Cup fina...  positive\n",
      "3     U dun say so early hor... U c already then say...   neutral\n",
      "4     Nah I don't think he goes to usf, he lives aro...   neutral\n",
      "...                                                 ...       ...\n",
      "5567  This is the 2nd time we have tried 2 contact u...  positive\n",
      "5568              Will Ì_ b going to esplanade fr home?   neutral\n",
      "5569  Pity, * was in mood for that. So...any other s...  negative\n",
      "5570  The guy did some bitching but I acted like i'd...  positive\n",
      "5571                         Rofl. Its true to its name  positive\n",
      "\n",
      "[5572 rows x 2 columns]\n"
     ]
    }
   ],
   "source": [
    "def categorize_sentiment(text):\n",
    "    blob = TextBlob(text)\n",
    "    polarity = blob.sentiment.polarity\n",
    "    if polarity > 0.1:  # Threshold for positive sentiment\n",
    "        return 'positive'\n",
    "    elif polarity < -0.1:  # Threshold for negative sentiment\n",
    "        return 'negative'\n",
    "    else:\n",
    "        return 'neutral'\n",
    "\n",
    "# Apply the function to the 'v2' column\n",
    "df['Sentiment'] = df['v2'].apply(categorize_sentiment)\n",
    "\n",
    "# Display the DataFrame with categorized sentiment\n",
    "print(df[['v2', 'Sentiment']])"
   ]
  },
  {
   "cell_type": "code",
   "execution_count": 55,
   "id": "919260f3",
   "metadata": {},
   "outputs": [
    {
     "data": {
      "text/plain": [
       "neutral     2752\n",
       "positive    2186\n",
       "negative     634\n",
       "Name: Sentiment, dtype: int64"
      ]
     },
     "execution_count": 55,
     "metadata": {},
     "output_type": "execute_result"
    }
   ],
   "source": [
    "df['Sentiment'].value_counts()"
   ]
  },
  {
   "cell_type": "code",
   "execution_count": 58,
   "id": "53116853",
   "metadata": {},
   "outputs": [
    {
     "name": "stdout",
     "output_type": "stream",
     "text": [
      "<class 'pandas.core.frame.DataFrame'>\n",
      "RangeIndex: 5572 entries, 0 to 5571\n",
      "Data columns (total 7 columns):\n",
      " #   Column      Non-Null Count  Dtype  \n",
      "---  ------      --------------  -----  \n",
      " 0   v1          5572 non-null   object \n",
      " 1   v2          5572 non-null   object \n",
      " 2   Unnamed: 2  50 non-null     object \n",
      " 3   Unnamed: 3  12 non-null     object \n",
      " 4   Unnamed: 4  6 non-null      object \n",
      " 5   Polarity    5572 non-null   float64\n",
      " 6   Sentiment   5572 non-null   object \n",
      "dtypes: float64(1), object(6)\n",
      "memory usage: 304.8+ KB\n"
     ]
    }
   ],
   "source": [
    "df.info()"
   ]
  },
  {
   "cell_type": "code",
   "execution_count": 59,
   "id": "c6f3d26a",
   "metadata": {},
   "outputs": [
    {
     "data": {
      "text/plain": [
       "403"
      ]
     },
     "execution_count": 59,
     "metadata": {},
     "output_type": "execute_result"
    }
   ],
   "source": [
    "df.duplicated().sum()"
   ]
  },
  {
   "cell_type": "code",
   "execution_count": 61,
   "id": "ef55158f",
   "metadata": {},
   "outputs": [],
   "source": [
    "df=df.drop_duplicates()"
   ]
  },
  {
   "cell_type": "code",
   "execution_count": 65,
   "id": "e57dcca5",
   "metadata": {},
   "outputs": [
    {
     "name": "stderr",
     "output_type": "stream",
     "text": [
      "C:\\Users\\Rohit Yadav\\AppData\\Local\\Temp\\ipykernel_10612\\566081659.py:1: SettingWithCopyWarning: \n",
      "A value is trying to be set on a copy of a slice from a DataFrame\n",
      "\n",
      "See the caveats in the documentation: https://pandas.pydata.org/pandas-docs/stable/user_guide/indexing.html#returning-a-view-versus-a-copy\n",
      "  df.drop(columns=['Unnamed: 2','Unnamed: 3','Unnamed: 4','v1','Polarity'],inplace=True)\n"
     ]
    }
   ],
   "source": [
    "df.drop(columns=['Unnamed: 2','Unnamed: 3','Unnamed: 4','v1','Polarity'],inplace=True)"
   ]
  },
  {
   "cell_type": "code",
   "execution_count": 66,
   "id": "fe7dbdfe",
   "metadata": {},
   "outputs": [
    {
     "data": {
      "text/html": [
       "<div>\n",
       "<style scoped>\n",
       "    .dataframe tbody tr th:only-of-type {\n",
       "        vertical-align: middle;\n",
       "    }\n",
       "\n",
       "    .dataframe tbody tr th {\n",
       "        vertical-align: top;\n",
       "    }\n",
       "\n",
       "    .dataframe thead th {\n",
       "        text-align: right;\n",
       "    }\n",
       "</style>\n",
       "<table border=\"1\" class=\"dataframe\">\n",
       "  <thead>\n",
       "    <tr style=\"text-align: right;\">\n",
       "      <th></th>\n",
       "      <th>v2</th>\n",
       "      <th>Sentiment</th>\n",
       "    </tr>\n",
       "  </thead>\n",
       "  <tbody>\n",
       "    <tr>\n",
       "      <th>0</th>\n",
       "      <td>Go until jurong point, crazy.. Available only ...</td>\n",
       "      <td>positive</td>\n",
       "    </tr>\n",
       "    <tr>\n",
       "      <th>1</th>\n",
       "      <td>Ok lar... Joking wif u oni...</td>\n",
       "      <td>positive</td>\n",
       "    </tr>\n",
       "    <tr>\n",
       "      <th>2</th>\n",
       "      <td>Free entry in 2 a wkly comp to win FA Cup fina...</td>\n",
       "      <td>positive</td>\n",
       "    </tr>\n",
       "    <tr>\n",
       "      <th>3</th>\n",
       "      <td>U dun say so early hor... U c already then say...</td>\n",
       "      <td>neutral</td>\n",
       "    </tr>\n",
       "    <tr>\n",
       "      <th>4</th>\n",
       "      <td>Nah I don't think he goes to usf, he lives aro...</td>\n",
       "      <td>neutral</td>\n",
       "    </tr>\n",
       "  </tbody>\n",
       "</table>\n",
       "</div>"
      ],
      "text/plain": [
       "                                                  v2 Sentiment\n",
       "0  Go until jurong point, crazy.. Available only ...  positive\n",
       "1                      Ok lar... Joking wif u oni...  positive\n",
       "2  Free entry in 2 a wkly comp to win FA Cup fina...  positive\n",
       "3  U dun say so early hor... U c already then say...   neutral\n",
       "4  Nah I don't think he goes to usf, he lives aro...   neutral"
      ]
     },
     "execution_count": 66,
     "metadata": {},
     "output_type": "execute_result"
    }
   ],
   "source": [
    "df.head()"
   ]
  },
  {
   "cell_type": "code",
   "execution_count": 69,
   "id": "a9124e58",
   "metadata": {},
   "outputs": [
    {
     "name": "stderr",
     "output_type": "stream",
     "text": [
      "C:\\Users\\Rohit Yadav\\AppData\\Local\\Temp\\ipykernel_10612\\3904836783.py:1: SettingWithCopyWarning: \n",
      "A value is trying to be set on a copy of a slice from a DataFrame\n",
      "\n",
      "See the caveats in the documentation: https://pandas.pydata.org/pandas-docs/stable/user_guide/indexing.html#returning-a-view-versus-a-copy\n",
      "  df.rename(columns={'v2':'Sentence'},inplace=True)\n"
     ]
    }
   ],
   "source": [
    "df.rename(columns={'v2':'Sentence'},inplace=True)"
   ]
  },
  {
   "cell_type": "code",
   "execution_count": 70,
   "id": "4c2a988a",
   "metadata": {},
   "outputs": [
    {
     "data": {
      "text/html": [
       "<div>\n",
       "<style scoped>\n",
       "    .dataframe tbody tr th:only-of-type {\n",
       "        vertical-align: middle;\n",
       "    }\n",
       "\n",
       "    .dataframe tbody tr th {\n",
       "        vertical-align: top;\n",
       "    }\n",
       "\n",
       "    .dataframe thead th {\n",
       "        text-align: right;\n",
       "    }\n",
       "</style>\n",
       "<table border=\"1\" class=\"dataframe\">\n",
       "  <thead>\n",
       "    <tr style=\"text-align: right;\">\n",
       "      <th></th>\n",
       "      <th>Sentence</th>\n",
       "      <th>Sentiment</th>\n",
       "    </tr>\n",
       "  </thead>\n",
       "  <tbody>\n",
       "    <tr>\n",
       "      <th>0</th>\n",
       "      <td>Go until jurong point, crazy.. Available only ...</td>\n",
       "      <td>positive</td>\n",
       "    </tr>\n",
       "    <tr>\n",
       "      <th>1</th>\n",
       "      <td>Ok lar... Joking wif u oni...</td>\n",
       "      <td>positive</td>\n",
       "    </tr>\n",
       "    <tr>\n",
       "      <th>2</th>\n",
       "      <td>Free entry in 2 a wkly comp to win FA Cup fina...</td>\n",
       "      <td>positive</td>\n",
       "    </tr>\n",
       "    <tr>\n",
       "      <th>3</th>\n",
       "      <td>U dun say so early hor... U c already then say...</td>\n",
       "      <td>neutral</td>\n",
       "    </tr>\n",
       "    <tr>\n",
       "      <th>4</th>\n",
       "      <td>Nah I don't think he goes to usf, he lives aro...</td>\n",
       "      <td>neutral</td>\n",
       "    </tr>\n",
       "  </tbody>\n",
       "</table>\n",
       "</div>"
      ],
      "text/plain": [
       "                                            Sentence Sentiment\n",
       "0  Go until jurong point, crazy.. Available only ...  positive\n",
       "1                      Ok lar... Joking wif u oni...  positive\n",
       "2  Free entry in 2 a wkly comp to win FA Cup fina...  positive\n",
       "3  U dun say so early hor... U c already then say...   neutral\n",
       "4  Nah I don't think he goes to usf, he lives aro...   neutral"
      ]
     },
     "execution_count": 70,
     "metadata": {},
     "output_type": "execute_result"
    }
   ],
   "source": [
    "df.head()"
   ]
  },
  {
   "cell_type": "code",
   "execution_count": 71,
   "id": "ae18fa1f",
   "metadata": {},
   "outputs": [],
   "source": [
    "from nltk.stem import PorterStemmer\n",
    "ps=PorterStemmer()"
   ]
  },
  {
   "cell_type": "code",
   "execution_count": 72,
   "id": "4b9af3a5",
   "metadata": {},
   "outputs": [],
   "source": [
    "import re\n",
    "import nltk\n",
    "from nltk.tokenize import word_tokenize\n",
    "from nltk.corpus import stopwords\n",
    "stop_words=stopwords.words('english')\n",
    "from nltk.stem.porter import PorterStemmer\n",
    "def preprocess(text):\n",
    "    text=text.lower()\n",
    "    text=re.sub('[^a-zA-Z0-9]',' ',text)\n",
    "    text=re.sub('<.*?>','',text)\n",
    "    text=re.sub('https?://\\s+\\www\\.\\s+',' ',text)\n",
    "    text_tokens=word_tokenize(text)\n",
    "    filtered_text=[word for word in text_tokens if not word in stop_words]\n",
    "    stem_text=[ps.stem(word) for word in (filtered_text)]\n",
    "\n",
    "    return \" \".join(stem_text)"
   ]
  },
  {
   "cell_type": "code",
   "execution_count": 73,
   "id": "ea0afbef",
   "metadata": {},
   "outputs": [
    {
     "name": "stderr",
     "output_type": "stream",
     "text": [
      "C:\\Users\\Rohit Yadav\\AppData\\Local\\Temp\\ipykernel_10612\\1963933119.py:1: SettingWithCopyWarning: \n",
      "A value is trying to be set on a copy of a slice from a DataFrame.\n",
      "Try using .loc[row_indexer,col_indexer] = value instead\n",
      "\n",
      "See the caveats in the documentation: https://pandas.pydata.org/pandas-docs/stable/user_guide/indexing.html#returning-a-view-versus-a-copy\n",
      "  df['Sentence']=df['Sentence'].apply(preprocess)\n"
     ]
    }
   ],
   "source": [
    "df['Sentence']=df['Sentence'].apply(preprocess)"
   ]
  },
  {
   "cell_type": "code",
   "execution_count": 74,
   "id": "7ca2b062",
   "metadata": {},
   "outputs": [
    {
     "data": {
      "text/html": [
       "<div>\n",
       "<style scoped>\n",
       "    .dataframe tbody tr th:only-of-type {\n",
       "        vertical-align: middle;\n",
       "    }\n",
       "\n",
       "    .dataframe tbody tr th {\n",
       "        vertical-align: top;\n",
       "    }\n",
       "\n",
       "    .dataframe thead th {\n",
       "        text-align: right;\n",
       "    }\n",
       "</style>\n",
       "<table border=\"1\" class=\"dataframe\">\n",
       "  <thead>\n",
       "    <tr style=\"text-align: right;\">\n",
       "      <th></th>\n",
       "      <th>Sentence</th>\n",
       "      <th>Sentiment</th>\n",
       "    </tr>\n",
       "  </thead>\n",
       "  <tbody>\n",
       "    <tr>\n",
       "      <th>0</th>\n",
       "      <td>go jurong point crazi avail bugi n great world...</td>\n",
       "      <td>positive</td>\n",
       "    </tr>\n",
       "    <tr>\n",
       "      <th>1</th>\n",
       "      <td>ok lar joke wif u oni</td>\n",
       "      <td>positive</td>\n",
       "    </tr>\n",
       "    <tr>\n",
       "      <th>2</th>\n",
       "      <td>free entri 2 wkli comp win fa cup final tkt 21...</td>\n",
       "      <td>positive</td>\n",
       "    </tr>\n",
       "    <tr>\n",
       "      <th>3</th>\n",
       "      <td>u dun say earli hor u c alreadi say</td>\n",
       "      <td>neutral</td>\n",
       "    </tr>\n",
       "    <tr>\n",
       "      <th>4</th>\n",
       "      <td>nah think goe usf live around though</td>\n",
       "      <td>neutral</td>\n",
       "    </tr>\n",
       "  </tbody>\n",
       "</table>\n",
       "</div>"
      ],
      "text/plain": [
       "                                            Sentence Sentiment\n",
       "0  go jurong point crazi avail bugi n great world...  positive\n",
       "1                              ok lar joke wif u oni  positive\n",
       "2  free entri 2 wkli comp win fa cup final tkt 21...  positive\n",
       "3                u dun say earli hor u c alreadi say   neutral\n",
       "4               nah think goe usf live around though   neutral"
      ]
     },
     "execution_count": 74,
     "metadata": {},
     "output_type": "execute_result"
    }
   ],
   "source": [
    "df.head()"
   ]
  },
  {
   "cell_type": "code",
   "execution_count": 75,
   "id": "de683479",
   "metadata": {},
   "outputs": [],
   "source": [
    "from sklearn.preprocessing import LabelEncoder\n",
    "encoder=LabelEncoder()"
   ]
  },
  {
   "cell_type": "code",
   "execution_count": 76,
   "id": "b28d43de",
   "metadata": {},
   "outputs": [
    {
     "name": "stderr",
     "output_type": "stream",
     "text": [
      "C:\\Users\\Rohit Yadav\\AppData\\Local\\Temp\\ipykernel_10612\\4110848216.py:1: SettingWithCopyWarning: \n",
      "A value is trying to be set on a copy of a slice from a DataFrame.\n",
      "Try using .loc[row_indexer,col_indexer] = value instead\n",
      "\n",
      "See the caveats in the documentation: https://pandas.pydata.org/pandas-docs/stable/user_guide/indexing.html#returning-a-view-versus-a-copy\n",
      "  df['values']=encoder.fit_transform(df['Sentiment'])\n"
     ]
    }
   ],
   "source": [
    "df['values']=encoder.fit_transform(df['Sentiment'])"
   ]
  },
  {
   "cell_type": "code",
   "execution_count": 77,
   "id": "76394ccd",
   "metadata": {},
   "outputs": [
    {
     "name": "stdout",
     "output_type": "stream",
     "text": [
      "                                            Sentence Sentiment  values\n",
      "0  go jurong point crazi avail bugi n great world...  positive       2\n",
      "1                              ok lar joke wif u oni  positive       2\n",
      "2  free entri 2 wkli comp win fa cup final tkt 21...  positive       2\n",
      "3                u dun say earli hor u c alreadi say   neutral       1\n",
      "4               nah think goe usf live around though   neutral       1\n",
      "1    2592\n",
      "2    1999\n",
      "0     578\n",
      "Name: values, dtype: int64\n"
     ]
    }
   ],
   "source": [
    "print(df.head())\n",
    "print(df['values'].value_counts())"
   ]
  },
  {
   "cell_type": "code",
   "execution_count": 11,
   "id": "159fdcf9",
   "metadata": {},
   "outputs": [],
   "source": [
    "# Negative means 0\n",
    "# Neutral means 1\n",
    "# positive means 2 "
   ]
  },
  {
   "cell_type": "code",
   "execution_count": 78,
   "id": "d015d8ad",
   "metadata": {},
   "outputs": [
    {
     "data": {
      "text/plain": [
       "neutral     2592\n",
       "positive    1999\n",
       "negative     578\n",
       "Name: Sentiment, dtype: int64"
      ]
     },
     "execution_count": 78,
     "metadata": {},
     "output_type": "execute_result"
    }
   ],
   "source": [
    "df['Sentiment'].value_counts()"
   ]
  },
  {
   "cell_type": "code",
   "execution_count": 79,
   "id": "e9654a04",
   "metadata": {},
   "outputs": [
    {
     "name": "stdout",
     "output_type": "stream",
     "text": [
      "1    2592\n",
      "0    2578\n",
      "2    1999\n",
      "Name: values, dtype: int64\n"
     ]
    }
   ],
   "source": [
    "import numpy as np\n",
    "\n",
    "# Number of negative sentences you want to generate\n",
    "num_negative_sentences = 2000  # Adjust this number as needed\n",
    "\n",
    "# Select a random sample of negative sentences from the original dataset\n",
    "negative_samples = df[df['values'] == 0].sample(num_negative_sentences, replace=True)\n",
    "\n",
    "# Concatenate the selected negative samples with the original dataset\n",
    "augmented_df = pd.concat([df, negative_samples])\n",
    "\n",
    "# Shuffle the rows to mix the original and augmented data\n",
    "augmented_df = augmented_df.sample(frac=1, random_state=42).reset_index(drop=True)\n",
    "\n",
    "# Check the value counts to ensure that the number of negative sentences has increased\n",
    "print(augmented_df['values'].value_counts())\n"
   ]
  },
  {
   "cell_type": "code",
   "execution_count": 80,
   "id": "4a8cd158",
   "metadata": {},
   "outputs": [
    {
     "data": {
      "text/html": [
       "<div>\n",
       "<style scoped>\n",
       "    .dataframe tbody tr th:only-of-type {\n",
       "        vertical-align: middle;\n",
       "    }\n",
       "\n",
       "    .dataframe tbody tr th {\n",
       "        vertical-align: top;\n",
       "    }\n",
       "\n",
       "    .dataframe thead th {\n",
       "        text-align: right;\n",
       "    }\n",
       "</style>\n",
       "<table border=\"1\" class=\"dataframe\">\n",
       "  <thead>\n",
       "    <tr style=\"text-align: right;\">\n",
       "      <th></th>\n",
       "      <th>Sentence</th>\n",
       "      <th>Sentiment</th>\n",
       "      <th>values</th>\n",
       "    </tr>\n",
       "  </thead>\n",
       "  <tbody>\n",
       "    <tr>\n",
       "      <th>0</th>\n",
       "      <td>issu right ill fix tomorrow</td>\n",
       "      <td>negative</td>\n",
       "      <td>0</td>\n",
       "    </tr>\n",
       "    <tr>\n",
       "      <th>1</th>\n",
       "      <td>great princess love give receiv oral doggi sty...</td>\n",
       "      <td>positive</td>\n",
       "      <td>2</td>\n",
       "    </tr>\n",
       "    <tr>\n",
       "      <th>2</th>\n",
       "      <td>alright head minut text meet</td>\n",
       "      <td>negative</td>\n",
       "      <td>0</td>\n",
       "    </tr>\n",
       "    <tr>\n",
       "      <th>3</th>\n",
       "      <td>might accid tookplac somewher ghodbandar rd tr...</td>\n",
       "      <td>neutral</td>\n",
       "      <td>1</td>\n",
       "    </tr>\n",
       "    <tr>\n",
       "      <th>4</th>\n",
       "      <td>ok much though h friday cant wait dunno wot he...</td>\n",
       "      <td>negative</td>\n",
       "      <td>0</td>\n",
       "    </tr>\n",
       "    <tr>\n",
       "      <th>...</th>\n",
       "      <td>...</td>\n",
       "      <td>...</td>\n",
       "      <td>...</td>\n",
       "    </tr>\n",
       "    <tr>\n",
       "      <th>7164</th>\n",
       "      <td>eek lot time especi sinc american pie like 8 m...</td>\n",
       "      <td>neutral</td>\n",
       "      <td>1</td>\n",
       "    </tr>\n",
       "    <tr>\n",
       "      <th>7165</th>\n",
       "      <td>forc eat slice realli hungri tho suck mark get...</td>\n",
       "      <td>negative</td>\n",
       "      <td>0</td>\n",
       "    </tr>\n",
       "    <tr>\n",
       "      <th>7166</th>\n",
       "      <td>sister belong 2 famili hope tomorrow pray 4 fa...</td>\n",
       "      <td>negative</td>\n",
       "      <td>0</td>\n",
       "    </tr>\n",
       "    <tr>\n",
       "      <th>7167</th>\n",
       "      <td>still pretti weak today bad day</td>\n",
       "      <td>negative</td>\n",
       "      <td>0</td>\n",
       "    </tr>\n",
       "    <tr>\n",
       "      <th>7168</th>\n",
       "      <td>u secret admir look 2 make contact u find r re...</td>\n",
       "      <td>negative</td>\n",
       "      <td>0</td>\n",
       "    </tr>\n",
       "  </tbody>\n",
       "</table>\n",
       "<p>7169 rows × 3 columns</p>\n",
       "</div>"
      ],
      "text/plain": [
       "                                               Sentence Sentiment  values\n",
       "0                           issu right ill fix tomorrow  negative       0\n",
       "1     great princess love give receiv oral doggi sty...  positive       2\n",
       "2                          alright head minut text meet  negative       0\n",
       "3     might accid tookplac somewher ghodbandar rd tr...   neutral       1\n",
       "4     ok much though h friday cant wait dunno wot he...  negative       0\n",
       "...                                                 ...       ...     ...\n",
       "7164  eek lot time especi sinc american pie like 8 m...   neutral       1\n",
       "7165  forc eat slice realli hungri tho suck mark get...  negative       0\n",
       "7166  sister belong 2 famili hope tomorrow pray 4 fa...  negative       0\n",
       "7167                    still pretti weak today bad day  negative       0\n",
       "7168  u secret admir look 2 make contact u find r re...  negative       0\n",
       "\n",
       "[7169 rows x 3 columns]"
      ]
     },
     "execution_count": 80,
     "metadata": {},
     "output_type": "execute_result"
    }
   ],
   "source": [
    "augmented_df"
   ]
  },
  {
   "cell_type": "code",
   "execution_count": 81,
   "id": "edc4ca99",
   "metadata": {},
   "outputs": [
    {
     "data": {
      "text/plain": [
       "1    2592\n",
       "0    2578\n",
       "2    1999\n",
       "Name: values, dtype: int64"
      ]
     },
     "execution_count": 81,
     "metadata": {},
     "output_type": "execute_result"
    }
   ],
   "source": [
    "augmented_df['values'].value_counts()"
   ]
  },
  {
   "cell_type": "code",
   "execution_count": 12,
   "id": "5312bc07",
   "metadata": {},
   "outputs": [],
   "source": [
    "# def correct_spelling(text):\n",
    "#     blob = TextBlob(text)\n",
    "#     corrected_text = blob.correct()\n",
    "#     return str(corrected_text)"
   ]
  },
  {
   "cell_type": "code",
   "execution_count": 13,
   "id": "c6fab005",
   "metadata": {},
   "outputs": [],
   "source": [
    "# just seeing the output of the polarity and textblob\n",
    "# because dataframe is large so,not executing the textblob library\n"
   ]
  },
  {
   "cell_type": "code",
   "execution_count": 14,
   "id": "85a0e08f",
   "metadata": {},
   "outputs": [],
   "source": [
    "# from textblob import TextBlob\n",
    "\n",
    "# # Function to find polarity and correct spelling\n",
    "# def analyze_sentiment_and_correct_spelling(sentence):\n",
    "#     # Correct spelling\n",
    "#     corrected_sentence = str(TextBlob(sentence).correct())\n",
    "    \n",
    "#     # Find polarity\n",
    "#     polarity = TextBlob(corrected_sentence).sentiment.polarity\n",
    "    \n",
    "#     return corrected_sentence, polarity\n",
    "\n",
    "# # Apply the function to each sentence in the \"Sentence\" column\n",
    "# df['Corrected_Sentence'], df['Polarity'] = zip(*df['Sentiment'].map(analyze_sentiment_and_correct_spelling))\n",
    "\n",
    "# # Display the modified DataFrame\n"
   ]
  },
  {
   "cell_type": "code",
   "execution_count": 82,
   "id": "9a27cad1",
   "metadata": {},
   "outputs": [],
   "source": [
    "augmented_df=augmented_df.drop('Sentiment',axis=1)"
   ]
  },
  {
   "cell_type": "code",
   "execution_count": 83,
   "id": "9f7c9da6",
   "metadata": {},
   "outputs": [
    {
     "data": {
      "text/html": [
       "<div>\n",
       "<style scoped>\n",
       "    .dataframe tbody tr th:only-of-type {\n",
       "        vertical-align: middle;\n",
       "    }\n",
       "\n",
       "    .dataframe tbody tr th {\n",
       "        vertical-align: top;\n",
       "    }\n",
       "\n",
       "    .dataframe thead th {\n",
       "        text-align: right;\n",
       "    }\n",
       "</style>\n",
       "<table border=\"1\" class=\"dataframe\">\n",
       "  <thead>\n",
       "    <tr style=\"text-align: right;\">\n",
       "      <th></th>\n",
       "      <th>Sentence</th>\n",
       "      <th>values</th>\n",
       "    </tr>\n",
       "  </thead>\n",
       "  <tbody>\n",
       "    <tr>\n",
       "      <th>0</th>\n",
       "      <td>issu right ill fix tomorrow</td>\n",
       "      <td>0</td>\n",
       "    </tr>\n",
       "    <tr>\n",
       "      <th>1</th>\n",
       "      <td>great princess love give receiv oral doggi sty...</td>\n",
       "      <td>2</td>\n",
       "    </tr>\n",
       "    <tr>\n",
       "      <th>2</th>\n",
       "      <td>alright head minut text meet</td>\n",
       "      <td>0</td>\n",
       "    </tr>\n",
       "    <tr>\n",
       "      <th>3</th>\n",
       "      <td>might accid tookplac somewher ghodbandar rd tr...</td>\n",
       "      <td>1</td>\n",
       "    </tr>\n",
       "    <tr>\n",
       "      <th>4</th>\n",
       "      <td>ok much though h friday cant wait dunno wot he...</td>\n",
       "      <td>0</td>\n",
       "    </tr>\n",
       "  </tbody>\n",
       "</table>\n",
       "</div>"
      ],
      "text/plain": [
       "                                            Sentence  values\n",
       "0                        issu right ill fix tomorrow       0\n",
       "1  great princess love give receiv oral doggi sty...       2\n",
       "2                       alright head minut text meet       0\n",
       "3  might accid tookplac somewher ghodbandar rd tr...       1\n",
       "4  ok much though h friday cant wait dunno wot he...       0"
      ]
     },
     "execution_count": 83,
     "metadata": {},
     "output_type": "execute_result"
    }
   ],
   "source": [
    "augmented_df.head()"
   ]
  },
  {
   "cell_type": "code",
   "execution_count": 84,
   "id": "ccb466b3",
   "metadata": {},
   "outputs": [
    {
     "data": {
      "image/png": "[encoded data removed]",
      "text/plain": [
       "<Figure size 800x600 with 1 Axes>"
      ]
     },
     "metadata": {},
     "output_type": "display_data"
    }
   ],
   "source": [
    "plt.figure(figsize=(8, 6))\n",
    "sns.countplot(x='values', data=augmented_df)\n",
    "plt.title('Distribution of values')\n",
    "plt.xlabel('Value')\n",
    "plt.ylabel('Count')\n",
    "\n",
    "plt.show()\n"
   ]
  },
  {
   "cell_type": "code",
   "execution_count": 85,
   "id": "bf350d21",
   "metadata": {},
   "outputs": [
    {
     "data": {
      "image/png": "[encoded data removed]",
      "text/plain": [
       "<Figure size 800x600 with 1 Axes>"
      ]
     },
     "metadata": {},
     "output_type": "display_data"
    }
   ],
   "source": [
    "plt.figure(figsize=(8, 6))\n",
    "sns.histplot(augmented_df['values'], bins=10, kde=True, color='skyblue')\n",
    "plt.title('Distribution of values')\n",
    "plt.xlabel('Value')\n",
    "plt.ylabel('Count')\n",
    "plt.show()\n"
   ]
  },
  {
   "cell_type": "code",
   "execution_count": 86,
   "id": "b06b13d0",
   "metadata": {},
   "outputs": [
    {
     "data": {
      "image/png": "[encoded data removed]",
      "text/plain": [
       "<Figure size 800x600 with 1 Axes>"
      ]
     },
     "metadata": {},
     "output_type": "display_data"
    }
   ],
   "source": [
    "plt.figure(figsize=(8, 6))\n",
    "sns.scatterplot(x=augmented_df['values'], y=augmented_df['Sentence'].apply(len))\n",
    "plt.title('Length of Sentence vs. Value')\n",
    "plt.xlabel('Value')\n",
    "plt.ylabel('Sentence Length')\n",
    "plt.show()"
   ]
  },
  {
   "cell_type": "code",
   "execution_count": 87,
   "id": "6b426b05",
   "metadata": {},
   "outputs": [],
   "source": [
    "x=augmented_df['Sentence']\n",
    "y=augmented_df['values']"
   ]
  },
  {
   "cell_type": "code",
   "execution_count": 88,
   "id": "5f9347c3",
   "metadata": {},
   "outputs": [],
   "source": [
    "from sklearn.model_selection import train_test_split\n",
    "x_train,x_test,y_train,y_test=train_test_split(x,y,random_state=42,test_size=0.2)"
   ]
  },
  {
   "cell_type": "code",
   "execution_count": 89,
   "id": "01e4c9b4",
   "metadata": {},
   "outputs": [],
   "source": [
    "from sklearn.feature_extraction.text import TfidfVectorizer\n",
    "tfidf = TfidfVectorizer()\n"
   ]
  },
  {
   "cell_type": "code",
   "execution_count": 90,
   "id": "e227f114",
   "metadata": {},
   "outputs": [],
   "source": [
    "x_train_fit=tfidf.fit_transform(x_train)\n",
    "x_test_fit=tfidf.transform(x_test)"
   ]
  },
  {
   "cell_type": "code",
   "execution_count": 91,
   "id": "c7865aa7",
   "metadata": {},
   "outputs": [],
   "source": [
    "from sklearn.naive_bayes import MultinomialNB"
   ]
  },
  {
   "cell_type": "code",
   "execution_count": 92,
   "id": "2db4045f",
   "metadata": {},
   "outputs": [],
   "source": [
    "mnb=MultinomialNB()"
   ]
  },
  {
   "cell_type": "code",
   "execution_count": 93,
   "id": "05fb504c",
   "metadata": {},
   "outputs": [],
   "source": [
    "mnb.fit(x_train_fit,y_train)\n",
    "y_pred=mnb.predict(x_test_fit)"
   ]
  },
  {
   "cell_type": "code",
   "execution_count": 94,
   "id": "e448b079",
   "metadata": {},
   "outputs": [],
   "source": [
    "from sklearn.metrics import classification_report, accuracy_score"
   ]
  },
  {
   "cell_type": "code",
   "execution_count": 95,
   "id": "f26c7032",
   "metadata": {},
   "outputs": [
    {
     "name": "stdout",
     "output_type": "stream",
     "text": [
      "              precision    recall  f1-score   support\n",
      "\n",
      "           0       0.73      0.94      0.82       537\n",
      "           1       0.68      0.62      0.65       497\n",
      "           2       0.80      0.56      0.66       400\n",
      "\n",
      "    accuracy                           0.72      1434\n",
      "   macro avg       0.73      0.71      0.71      1434\n",
      "weighted avg       0.73      0.72      0.72      1434\n",
      "\n",
      "0.7245467224546722\n"
     ]
    }
   ],
   "source": [
    "print(classification_report(y_test,y_pred))\n",
    "\n",
    "print(accuracy_score(y_test,y_pred))"
   ]
  },
  {
   "cell_type": "code",
   "execution_count": 96,
   "id": "5363fce3",
   "metadata": {},
   "outputs": [],
   "source": [
    "from sklearn.svm import SVC\n",
    "svm=SVC(kernel='linear')"
   ]
  },
  {
   "cell_type": "code",
   "execution_count": 97,
   "id": "d73e10a6",
   "metadata": {},
   "outputs": [
    {
     "data": {
      "text/html": [
       "<style>#sk-container-id-2 {color: black;background-color: white;}#sk-container-id-2 pre{padding: 0;}#sk-container-id-2 div.sk-toggleable {background-color: white;}#sk-container-id-2 label.sk-toggleable__label {cursor: pointer;display: block;width: 100%;margin-bottom: 0;padding: 0.3em;box-sizing: border-box;text-align: center;}#sk-container-id-2 label.sk-toggleable__label-arrow:before {content: \"▸\";float: left;margin-right: 0.25em;color: #696969;}#sk-container-id-2 label.sk-toggleable__label-arrow:hover:before {color: black;}#sk-container-id-2 div.sk-estimator:hover label.sk-toggleable__label-arrow:before {color: black;}#sk-container-id-2 div.sk-toggleable__content {max-height: 0;max-width: 0;overflow: hidden;text-align: left;background-color: #f0f8ff;}#sk-container-id-2 div.sk-toggleable__content pre {margin: 0.2em;color: black;border-radius: 0.25em;background-color: #f0f8ff;}#sk-container-id-2 input.sk-toggleable__control:checked~div.sk-toggleable__content {max-height: 200px;max-width: 100%;overflow: auto;}#sk-container-id-2 input.sk-toggleable__control:checked~label.sk-toggleable__label-arrow:before {content: \"▾\";}#sk-container-id-2 div.sk-estimator input.sk-toggleable__control:checked~label.sk-toggleable__label {background-color: #d4ebff;}#sk-container-id-2 div.sk-label input.sk-toggleable__control:checked~label.sk-toggleable__label {background-color: #d4ebff;}#sk-container-id-2 input.sk-hidden--visually {border: 0;clip: rect(1px 1px 1px 1px);clip: rect(1px, 1px, 1px, 1px);height: 1px;margin: -1px;overflow: hidden;padding: 0;position: absolute;width: 1px;}#sk-container-id-2 div.sk-estimator {font-family: monospace;background-color: #f0f8ff;border: 1px dotted black;border-radius: 0.25em;box-sizing: border-box;margin-bottom: 0.5em;}#sk-container-id-2 div.sk-estimator:hover {background-color: #d4ebff;}#sk-container-id-2 div.sk-parallel-item::after {content: \"\";width: 100%;border-bottom: 1px solid gray;flex-grow: 1;}#sk-container-id-2 div.sk-label:hover label.sk-toggleable__label {background-color: #d4ebff;}#sk-container-id-2 div.sk-serial::before {content: \"\";position: absolute;border-left: 1px solid gray;box-sizing: border-box;top: 0;bottom: 0;left: 50%;z-index: 0;}#sk-container-id-2 div.sk-serial {display: flex;flex-direction: column;align-items: center;background-color: white;padding-right: 0.2em;padding-left: 0.2em;position: relative;}#sk-container-id-2 div.sk-item {position: relative;z-index: 1;}#sk-container-id-2 div.sk-parallel {display: flex;align-items: stretch;justify-content: center;background-color: white;position: relative;}#sk-container-id-2 div.sk-item::before, #sk-container-id-2 div.sk-parallel-item::before {content: \"\";position: absolute;border-left: 1px solid gray;box-sizing: border-box;top: 0;bottom: 0;left: 50%;z-index: -1;}#sk-container-id-2 div.sk-parallel-item {display: flex;flex-direction: column;z-index: 1;position: relative;background-color: white;}#sk-container-id-2 div.sk-parallel-item:first-child::after {align-self: flex-end;width: 50%;}#sk-container-id-2 div.sk-parallel-item:last-child::after {align-self: flex-start;width: 50%;}#sk-container-id-2 div.sk-parallel-item:only-child::after {width: 0;}#sk-container-id-2 div.sk-dashed-wrapped {border: 1px dashed gray;margin: 0 0.4em 0.5em 0.4em;box-sizing: border-box;padding-bottom: 0.4em;background-color: white;}#sk-container-id-2 div.sk-label label {font-family: monospace;font-weight: bold;display: inline-block;line-height: 1.2em;}#sk-container-id-2 div.sk-label-container {text-align: center;}#sk-container-id-2 div.sk-container {/* jupyter's `normalize.less` sets `[hidden] { display: none; }` but bootstrap.min.css set `[hidden] { display: none !important; }` so we also need the `!important` here to be able to override the default hidden behavior on the sphinx rendered scikit-learn.org. See: https://github.com/scikit-learn/scikit-learn/issues/21755 */display: inline-block !important;position: relative;}#sk-container-id-2 div.sk-text-repr-fallback {display: none;}</style><div id=\"sk-container-id-2\" class=\"sk-top-container\"><div class=\"sk-text-repr-fallback\"><pre>SVC(kernel=&#x27;linear&#x27;)</pre><b>In a Jupyter environment, please rerun this cell to show the HTML representation or trust the notebook. <br />On GitHub, the HTML representation is unable to render, please try loading this page with nbviewer.org.</b></div><div class=\"sk-container\" hidden><div class=\"sk-item\"><div class=\"sk-estimator sk-toggleable\"><input class=\"sk-toggleable__control sk-hidden--visually\" id=\"sk-estimator-id-2\" type=\"checkbox\" checked><label for=\"sk-estimator-id-2\" class=\"sk-toggleable__label sk-toggleable__label-arrow\">SVC</label><div class=\"sk-toggleable__content\"><pre>SVC(kernel=&#x27;linear&#x27;)</pre></div></div></div></div></div>"
      ],
      "text/plain": [
       "SVC(kernel='linear')"
      ]
     },
     "execution_count": 97,
     "metadata": {},
     "output_type": "execute_result"
    }
   ],
   "source": [
    "svm.fit(x_train_fit,y_train)"
   ]
  },
  {
   "cell_type": "code",
   "execution_count": 98,
   "id": "3828d83f",
   "metadata": {},
   "outputs": [],
   "source": [
    "y_pred2=svm.predict(x_test_fit)"
   ]
  },
  {
   "cell_type": "code",
   "execution_count": 99,
   "id": "3b4ef3d4",
   "metadata": {},
   "outputs": [
    {
     "name": "stdout",
     "output_type": "stream",
     "text": [
      "0.8430962343096234\n",
      "              precision    recall  f1-score   support\n",
      "\n",
      "           0       0.90      0.93      0.91       537\n",
      "           1       0.77      0.82      0.80       497\n",
      "           2       0.86      0.76      0.81       400\n",
      "\n",
      "    accuracy                           0.84      1434\n",
      "   macro avg       0.84      0.84      0.84      1434\n",
      "weighted avg       0.84      0.84      0.84      1434\n",
      "\n"
     ]
    }
   ],
   "source": [
    "print(accuracy_score(y_test,y_pred2))\n",
    "print(classification_report(y_test,y_pred2))"
   ]
  },
  {
   "cell_type": "code",
   "execution_count": 100,
   "id": "dd0f1515",
   "metadata": {},
   "outputs": [],
   "source": [
    "# Accuracy of SVC is performing in better way than multinomialNB\n",
    "from sklearn.ensemble import RandomForestClassifier, ExtraTreesClassifier\n",
    "rf=RandomForestClassifier()"
   ]
  },
  {
   "cell_type": "code",
   "execution_count": 101,
   "id": "2aa34089",
   "metadata": {},
   "outputs": [],
   "source": [
    "rf.fit(x_train_fit,y_train)\n",
    "y_pred3=rf.predict(x_test_fit)"
   ]
  },
  {
   "cell_type": "code",
   "execution_count": 102,
   "id": "b7e2f59d",
   "metadata": {},
   "outputs": [
    {
     "data": {
      "text/plain": [
       "0.897489539748954"
      ]
     },
     "execution_count": 102,
     "metadata": {},
     "output_type": "execute_result"
    }
   ],
   "source": [
    "accuracy_score(y_test,y_pred3)"
   ]
  },
  {
   "cell_type": "code",
   "execution_count": 104,
   "id": "9c3478c7",
   "metadata": {},
   "outputs": [],
   "source": [
    "extra=ExtraTreesClassifier()\n",
    "extra.fit(x_train_fit,y_train)\n",
    "y_pred4=extra.predict(x_test_fit)"
   ]
  },
  {
   "cell_type": "code",
   "execution_count": 105,
   "id": "68a56d09",
   "metadata": {},
   "outputs": [
    {
     "data": {
      "text/plain": [
       "0.9037656903765691"
      ]
     },
     "execution_count": 105,
     "metadata": {},
     "output_type": "execute_result"
    }
   ],
   "source": [
    "accuracy_score(y_test,y_pred4)"
   ]
  },
  {
   "cell_type": "code",
   "execution_count": 106,
   "id": "345e559d",
   "metadata": {},
   "outputs": [],
   "source": [
    "import tkinter as tk\n",
    "from tkinter import messagebox\n",
    "\n",
    "# Function to predict sentiment\n",
    "def predict_sentiment():\n",
    "    sentence = entry.get()\n",
    "    sentence_tfidf = tfidf.transform([sentence])\n",
    "    prediction = svm.predict(sentence_tfidf)\n",
    "    if prediction == 0:\n",
    "        messagebox.showinfo(\"Sentiment Prediction\", \"Negative\")\n",
    "    elif prediction == 1:\n",
    "        messagebox.showinfo(\"Sentiment Prediction\", \"Neutral\")\n",
    "    else:\n",
    "        messagebox.showinfo(\"Sentiment Prediction\", \"Positive\")\n",
    "\n",
    "root = tk.Tk()\n",
    "root.geometry('500x300')\n",
    "root.title(\"Sentiment Analysis\")\n",
    "\n",
    "# Set background color\n",
    "root.configure(bg=\"aquamarine3\")\n",
    "\n",
    "# Create input text box\n",
    "label = tk.Label(root, text=\"Enter your sentence:\", bg='aqua', fg=\"black\", font=('Arial', 12))\n",
    "label.pack(pady=10)\n",
    "entry = tk.Entry(root, width=40 ,font=('Arial', 12))\n",
    "entry.pack(pady=10,ipady=10)\n",
    "\n",
    "# Create predict button\n",
    "button = tk.Button(root, text=\"Predict Sentiment\", command=predict_sentiment, bg=\"cadetblue1\", fg=\"black\", font=('Calibri', 12))\n",
    "button.pack(pady=10)\n",
    "\n",
    "# Run the main loop\n",
    "root.mainloop()\n"
   ]
  },
  {
   "cell_type": "code",
   "execution_count": 108,
   "id": "9a76cb70",
   "metadata": {},
   "outputs": [],
   "source": [
    "import pickle\n",
    "pickle.dump(tfidf,open('Vectorizer.pkl','wb'))\n",
    "pickle.dump(svm,open('classifier.pkl','wb'))"
   ]
  }
 ],
 "metadata": {
  "kernelspec": {
   "display_name": "Python 3 (ipykernel)",
   "language": "python",
   "name": "python3"
  },
  "language_info": {
   "codemirror_mode": {
    "name": "ipython",
    "version": 3
   },
   "file_extension": ".py",
   "mimetype": "text/x-python",
   "name": "python",
   "nbconvert_exporter": "python",
   "pygments_lexer": "ipython3",
   "version": "3.9.13"
  }
 },
 "nbformat": 4,
 "nbformat_minor": 5
}
